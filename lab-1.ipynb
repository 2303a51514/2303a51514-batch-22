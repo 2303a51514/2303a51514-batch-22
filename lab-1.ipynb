{
  "nbformat": 4,
  "nbformat_minor": 0,
  "metadata": {
    "colab": {
      "provenance": [],
      "authorship_tag": "ABX9TyPwldIDoMthA/+Tva8q7acA",
      "include_colab_link": true
    },
    "kernelspec": {
      "name": "python3",
      "display_name": "Python 3"
    },
    "language_info": {
      "name": "python"
    }
  },
  "cells": [
    {
      "cell_type": "markdown",
      "metadata": {
        "id": "view-in-github",
        "colab_type": "text"
      },
      "source": [
        "<a href=\"https://colab.research.google.com/github/2303a51514/2303a51514-batch-22/blob/main/lab-1.ipynb\" target=\"_parent\"><img src=\"https://colab.research.google.com/assets/colab-badge.svg\" alt=\"Open In Colab\"/></a>"
      ]
    },
    {
      "cell_type": "code",
      "execution_count": 6,
      "metadata": {
        "colab": {
          "base_uri": "https://localhost:8080/"
        },
        "id": "cF78kPzYFQdw",
        "outputId": "4a2218b3-a307-4ddf-f171-a0d571203534"
      },
      "outputs": [
        {
          "output_type": "stream",
          "name": "stdout",
          "text": [
            "enter the number3\n",
            "the factorial of 3 is 6\n"
          ]
        }
      ],
      "source": [
        "def factorial(number):\n",
        "  fact=1\n",
        "  for i in range(1,number+1):\n",
        "    fact =fact*i\n",
        "  print('the factorial of',number,'is',fact)\n",
        "\n",
        "num = int(input('enter the number'))\n",
        "factorial(num)"
      ]
    }
  ]
}