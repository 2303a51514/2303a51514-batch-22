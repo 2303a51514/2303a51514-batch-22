{
  "nbformat": 4,
  "nbformat_minor": 0,
  "metadata": {
    "colab": {
      "provenance": [],
      "authorship_tag": "ABX9TyOdLAkGf8eM73cQKYNO6LK8",
      "include_colab_link": true
    },
    "kernelspec": {
      "name": "python3",
      "display_name": "Python 3"
    },
    "language_info": {
      "name": "python"
    }
  },
  "cells": [
    {
      "cell_type": "markdown",
      "metadata": {
        "id": "view-in-github",
        "colab_type": "text"
      },
      "source": [
        "<a href=\"https://colab.research.google.com/github/2303a51514/2303a51514-batch-22/blob/main/lab-5.ipynb\" target=\"_parent\"><img src=\"https://colab.research.google.com/assets/colab-badge.svg\" alt=\"Open In Colab\"/></a>"
      ]
    },
    {
      "cell_type": "code",
      "execution_count": 1,
      "metadata": {
        "colab": {
          "base_uri": "https://localhost:8080/"
        },
        "id": "YaLakSJdb4_w",
        "outputId": "3ea92907-f2b8-49bc-c956-d7a9a2b458fb"
      },
      "outputs": [
        {
          "output_type": "stream",
          "name": "stdout",
          "text": [
            "Original DataFrame:\n",
            "    Name   Age  Marks\n",
            "0   Ravi  25.0   85.0\n",
            "1   Neha   NaN   90.0\n",
            "2  Kiran  30.0    NaN\n",
            "3   Sita  28.0   92.0\n",
            "\n",
            "Check for Missing Values:\n",
            "    Name    Age  Marks\n",
            "0  False  False  False\n",
            "1  False   True  False\n",
            "2  False  False   True\n",
            "3  False  False  False\n"
          ]
        }
      ],
      "source": [
        "import pandas as pd\n",
        "import numpy as np\n",
        "data = {\n",
        "'Name': ['Ravi', 'Neha', 'Kiran', 'Sita'],\n",
        "'Age': [25, np.nan, 30, 28],\n",
        "'Marks': [85, 90, np.nan, 92]\n",
        "}\n",
        "df = pd.DataFrame(data)\n",
        "print(\"Original DataFrame:\")\n",
        "print(df)\n",
        "print(\"\\nCheck for Missing Values:\")\n",
        "print(df.isnull())"
      ]
    },
    {
      "cell_type": "code",
      "source": [
        "df_dropped = df.dropna()\n",
        "print(\"After Dropping Rows with NaN:\")\n",
        "print(df_dropped)\n"
      ],
      "metadata": {
        "colab": {
          "base_uri": "https://localhost:8080/"
        },
        "id": "D7B5QMi2cRgP",
        "outputId": "fb8f27f6-dbe7-4c97-ff23-cf1d1948da56"
      },
      "execution_count": 2,
      "outputs": [
        {
          "output_type": "stream",
          "name": "stdout",
          "text": [
            "After Dropping Rows with NaN:\n",
            "   Name   Age  Marks\n",
            "0  Ravi  25.0   85.0\n",
            "3  Sita  28.0   92.0\n"
          ]
        }
      ]
    },
    {
      "cell_type": "code",
      "source": [
        "df_filled = df.fillna(0)\n",
        "print(\"Filled with 0:\")\n",
        "print(df_filled)\n",
        "df['Age'] = df['Age'].fillna(df['Age'].mean())\n",
        "df['Marks'] =df['Marks'].fillna(df['Marks'].mean())\n",
        "print(\"\\nFilled with Mean:\")\n",
        "print(df)\n"
      ],
      "metadata": {
        "colab": {
          "base_uri": "https://localhost:8080/"
        },
        "id": "uO5mFlM7cZaM",
        "outputId": "6183ffd0-1546-4808-bafc-6c5e35a9faae"
      },
      "execution_count": 4,
      "outputs": [
        {
          "output_type": "stream",
          "name": "stdout",
          "text": [
            "Filled with 0:\n",
            "    Name   Age  Marks\n",
            "0   Ravi  25.0   85.0\n",
            "1   Neha   0.0   90.0\n",
            "2  Kiran  30.0    0.0\n",
            "3   Sita  28.0   92.0\n",
            "\n",
            "Filled with Mean:\n",
            "    Name        Age  Marks\n",
            "0   Ravi  25.000000   85.0\n",
            "1   Neha  27.666667   90.0\n",
            "2  Kiran  30.000000   89.0\n",
            "3   Sita  28.000000   92.0\n"
          ]
        }
      ]
    },
    {
      "cell_type": "code",
      "source": [
        "data = {\n",
        "'ID': [1, 2, 2, 3, 4, 4],\n",
        "'Name': ['Ravi', 'Neha', 'Neha', 'Kiran', 'Sita', 'Sita'],\n",
        "'Marks': [85, 90, 90, 78, 92, 92]\n",
        "}\n",
        "df = pd.DataFrame(data)\n",
        "print(\"Original DataFrame with Duplicates:\")\n",
        "print(df)\n",
        "df_no_dup = df.drop_duplicates()\n",
        "print(\"\\nAfter Removing Duplicates:\")\n",
        "print(df_no_dup)\n"
      ],
      "metadata": {
        "colab": {
          "base_uri": "https://localhost:8080/"
        },
        "id": "OafmCAAhcjK6",
        "outputId": "a23aec31-6f7c-4c47-aefe-41a802b061f9"
      },
      "execution_count": 5,
      "outputs": [
        {
          "output_type": "stream",
          "name": "stdout",
          "text": [
            "Original DataFrame with Duplicates:\n",
            "   ID   Name  Marks\n",
            "0   1   Ravi     85\n",
            "1   2   Neha     90\n",
            "2   2   Neha     90\n",
            "3   3  Kiran     78\n",
            "4   4   Sita     92\n",
            "5   4   Sita     92\n",
            "\n",
            "After Removing Duplicates:\n",
            "   ID   Name  Marks\n",
            "0   1   Ravi     85\n",
            "1   2   Neha     90\n",
            "3   3  Kiran     78\n",
            "4   4   Sita     92\n"
          ]
        }
      ]
    },
    {
      "cell_type": "code",
      "source": [
        "data = {\n",
        "'ID': ['1', '2', '3', '4'],\n",
        "'Marks': ['85', '90', '78', '92']\n",
        "}\n",
        "df = pd.DataFrame(data)\n",
        "print(\"Original Data Types:\")\n",
        "print(df.dtypes)\n",
        "df['ID'] = pd.to_numeric(df['ID'])\n",
        "df['Marks'] = pd.to_numeric(df['Marks'])\n",
        "print(\"\\nAfter Conversion:\")\n",
        "print(df.dtypes)\n"
      ],
      "metadata": {
        "colab": {
          "base_uri": "https://localhost:8080/"
        },
        "id": "fK_P0shucvRb",
        "outputId": "967d6f63-287c-41c0-9bcd-60e13f5c4f79"
      },
      "execution_count": 6,
      "outputs": [
        {
          "output_type": "stream",
          "name": "stdout",
          "text": [
            "Original Data Types:\n",
            "ID       object\n",
            "Marks    object\n",
            "dtype: object\n",
            "\n",
            "After Conversion:\n",
            "ID       int64\n",
            "Marks    int64\n",
            "dtype: object\n"
          ]
        }
      ]
    },
    {
      "cell_type": "code",
      "source": [
        "df['Marks'] = df['Marks'].apply(lambda x: x + 5)\n",
        "print(\"After Adding Bonus Marks:\")\n",
        "print(df)"
      ],
      "metadata": {
        "colab": {
          "base_uri": "https://localhost:8080/"
        },
        "id": "8k1fphh_eW5O",
        "outputId": "1bb5a264-ca85-44d7-fa44-6392338df9aa"
      },
      "execution_count": 7,
      "outputs": [
        {
          "output_type": "stream",
          "name": "stdout",
          "text": [
            "After Adding Bonus Marks:\n",
            "   ID  Marks\n",
            "0   1     90\n",
            "1   2     95\n",
            "2   3     83\n",
            "3   4     97\n"
          ]
        }
      ]
    },
    {
      "cell_type": "code",
      "source": [
        "df['Marks_Normalized'] = (df['Marks'] - df['Marks'].min()) / (df['Marks'].max() - df['Marks'].min())\n",
        "print(\"Normalized Marks:\")\n",
        "print(df)"
      ],
      "metadata": {
        "colab": {
          "base_uri": "https://localhost:8080/"
        },
        "id": "h0ypqlLAfHXV",
        "outputId": "203fdb15-7e9b-4f63-de83-766c13ad4b34"
      },
      "execution_count": 8,
      "outputs": [
        {
          "output_type": "stream",
          "name": "stdout",
          "text": [
            "Normalized Marks:\n",
            "   ID  Marks  Marks_Normalized\n",
            "0   1     90          0.500000\n",
            "1   2     95          0.857143\n",
            "2   3     83          0.000000\n",
            "3   4     97          1.000000\n"
          ]
        }
      ]
    },
    {
      "cell_type": "code",
      "source": [
        "import pandas as pd\n",
        "import numpy as np\n",
        "student_data = {\n",
        "'Student_ID': [101, 102, 102, 103, 104, 105],\n",
        "'Name': ['Ravi', 'Neha', 'Neha', 'Kiran', 'Sita', None],\n",
        "'Marks': [85, 90, 90, np.nan, 92, 88],\n",
        "'Department': ['CSE', 'ECE', 'ECE', 'MECH', 'CSE', 'CSE']\n",
        "}\n",
        "df = pd.DataFrame(student_data)\n",
        "print(\"Original Data:\")\n",
        "print(df)\n",
        "df['Marks'] = df['Marks'].fillna(df['Marks'].mean())\n",
        "df['Name'] = df['Name'].fillna(\"Unknown\")\n",
        "df = df.drop_duplicates()\n",
        "df['Result'] = ['Pass' if x >= 40 else 'Fail' for x in df['Marks']]\n",
        "print(\"\\nCleaned Student Data:\")\n",
        "print(df)\n"
      ],
      "metadata": {
        "colab": {
          "base_uri": "https://localhost:8080/"
        },
        "id": "sa2BNVMofQUV",
        "outputId": "9e6df643-6790-47c1-8498-380542b02bfd"
      },
      "execution_count": 9,
      "outputs": [
        {
          "output_type": "stream",
          "name": "stdout",
          "text": [
            "Original Data:\n",
            "   Student_ID   Name  Marks Department\n",
            "0         101   Ravi   85.0        CSE\n",
            "1         102   Neha   90.0        ECE\n",
            "2         102   Neha   90.0        ECE\n",
            "3         103  Kiran    NaN       MECH\n",
            "4         104   Sita   92.0        CSE\n",
            "5         105   None   88.0        CSE\n",
            "\n",
            "Cleaned Student Data:\n",
            "   Student_ID     Name  Marks Department Result\n",
            "0         101     Ravi   85.0        CSE   Pass\n",
            "1         102     Neha   90.0        ECE   Pass\n",
            "3         103    Kiran   89.0       MECH   Pass\n",
            "4         104     Sita   92.0        CSE   Pass\n",
            "5         105  Unknown   88.0        CSE   Pass\n"
          ]
        }
      ]
    },
    {
      "cell_type": "code",
      "source": [],
      "metadata": {
        "id": "qmG_Y9GEfZb0"
      },
      "execution_count": null,
      "outputs": []
    }
  ]
}