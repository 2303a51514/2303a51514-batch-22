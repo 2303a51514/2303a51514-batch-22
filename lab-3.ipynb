{
  "nbformat": 4,
  "nbformat_minor": 0,
  "metadata": {
    "colab": {
      "provenance": [],
      "authorship_tag": "ABX9TyMNaxVaRGrw6hzqFX9Zp+B2",
      "include_colab_link": true
    },
    "kernelspec": {
      "name": "python3",
      "display_name": "Python 3"
    },
    "language_info": {
      "name": "python"
    }
  },
  "cells": [
    {
      "cell_type": "markdown",
      "metadata": {
        "id": "view-in-github",
        "colab_type": "text"
      },
      "source": [
        "<a href=\"https://colab.research.google.com/github/2303a51514/2303a51514-batch-22/blob/main/lab-3.ipynb\" target=\"_parent\"><img src=\"https://colab.research.google.com/assets/colab-badge.svg\" alt=\"Open In Colab\"/></a>"
      ]
    },
    {
      "cell_type": "code",
      "execution_count": 6,
      "metadata": {
        "colab": {
          "base_uri": "https://localhost:8080/",
          "height": 0
        },
        "id": "LFSgfZDg5z_T",
        "outputId": "bb15a04f-c3b0-493d-a48f-3292bca90411"
      },
      "outputs": [
        {
          "output_type": "stream",
          "name": "stdout",
          "text": [
            "Data written successfully!\n"
          ]
        }
      ],
      "source": [
        "fp=open(\"example.txt\",\"w\")\n",
        "fp.write(\"hello,B.Tech students!\\n\")\n",
        "fp.write(\"this is file handling in python.\\n\")\n",
        "fp.write(\"SR University\\n\")\n",
        "fp.write(\"Thrishala\")\n",
        "fp.close()\n",
        "print(\"Data written successfully!\")"
      ]
    },
    {
      "cell_type": "code",
      "source": [
        "file=open(\"example.txt\",\"r\")\n",
        "content=file.read()\n",
        "print(\"file content:\\n\",content)\n",
        "file.close()"
      ],
      "metadata": {
        "colab": {
          "base_uri": "https://localhost:8080/",
          "height": 0
        },
        "id": "BpHSvc8Z7sJU",
        "outputId": "a329642d-6c32-4bac-ad61-abe7c03ca88c"
      },
      "execution_count": 8,
      "outputs": [
        {
          "output_type": "stream",
          "name": "stdout",
          "text": [
            "file content:\n",
            " hello,B.Tech students!\n",
            "this is file handling in python.\n",
            "SR University\n",
            "Thrishala\n"
          ]
        }
      ]
    },
    {
      "cell_type": "code",
      "source": [
        "file=open(\"example.txt\",\"r\")\n",
        "line1=file.readline()\n",
        "print(\"first line:\",line1)\n",
        "line2=file.readline()\n",
        "print(\"second line:\",line2)\n",
        "line3=file.readline()\n",
        "print(\"third line:\",line3)\n",
        "file.close()"
      ],
      "metadata": {
        "colab": {
          "base_uri": "https://localhost:8080/"
        },
        "id": "W6KXLE_v9Pq7",
        "outputId": "794df721-0b9e-4512-c254-8ebfbd7ed634"
      },
      "execution_count": 10,
      "outputs": [
        {
          "output_type": "stream",
          "name": "stdout",
          "text": [
            "first line: hello,B.Tech students!\n",
            "\n",
            "second line: this is file handling in python.\n",
            "\n",
            "third line: SR University\n",
            "\n"
          ]
        }
      ]
    },
    {
      "cell_type": "code",
      "source": [
        "file=open(\"example.txt\",\"r\")\n",
        "lines=file.readlines()\n",
        "print(\"list of lines:\\n\",lines)\n",
        "file.close()"
      ],
      "metadata": {
        "colab": {
          "base_uri": "https://localhost:8080/"
        },
        "id": "iO1i-94f-uo2",
        "outputId": "35e1c413-882d-4cc6-fbea-a87f732bf38f"
      },
      "execution_count": 11,
      "outputs": [
        {
          "output_type": "stream",
          "name": "stdout",
          "text": [
            "list of lines:\n",
            " ['hello,B.Tech students!\\n', 'this is file handling in python.\\n', 'SR University\\n', 'Thrishala']\n"
          ]
        }
      ]
    },
    {
      "cell_type": "code",
      "source": [
        "file=open(\"example.txt\",\"a\")\n",
        "file.write(\"Appending new data...\\n\")\n",
        "file.close()"
      ],
      "metadata": {
        "id": "Zh0hCELP_Ufx"
      },
      "execution_count": 13,
      "outputs": []
    },
    {
      "cell_type": "code",
      "source": [
        "with open(\"example.txt\",\"r\") as fp:\n",
        "  data=fp.read()\n",
        "  print(data)"
      ],
      "metadata": {
        "colab": {
          "base_uri": "https://localhost:8080/"
        },
        "id": "8frb4QHfAXVW",
        "outputId": "97a1769d-06dd-436b-d601-354e1f459480"
      },
      "execution_count": 14,
      "outputs": [
        {
          "output_type": "stream",
          "name": "stdout",
          "text": [
            "hello,B.Tech students!\n",
            "this is file handling in python.\n",
            "SR University\n",
            "Thrishalaappending new data...\n",
            "Appending new data...\n",
            "\n"
          ]
        }
      ]
    },
    {
      "cell_type": "code",
      "source": [
        "import csv\n",
        "with open(\"data.csv\",\"w\",newline=\"\") as fp:\n",
        "  wr=csv.writer(fp)\n",
        "  wr.writerows([[\"Name\",\"Age\",\"City\"],[\"aaa\",21,\"CSE\"],[\"bbb\",20,\"ECE\"]])\n",
        "with open(\"data.csv\",\"r\") as file:\n",
        "    re=csv.reader(file)\n",
        "    for row in re:\n",
        "      print(row)"
      ],
      "metadata": {
        "colab": {
          "base_uri": "https://localhost:8080/"
        },
        "id": "LiwQiPY2Bc8W",
        "outputId": "27bb2cde-8645-4889-b076-ed9bbe56de1a"
      },
      "execution_count": 24,
      "outputs": [
        {
          "output_type": "stream",
          "name": "stdout",
          "text": [
            "['Name', 'Age', 'City']\n",
            "['aaa', '21', 'CSE']\n",
            "['bbb', '20', 'ECE']\n"
          ]
        }
      ]
    },
    {
      "cell_type": "code",
      "source": [
        "import numpy as np\n",
        "arr1=np.array([1,2,3,4])\n",
        "print(\"1d array:\",arr1)"
      ],
      "metadata": {
        "colab": {
          "base_uri": "https://localhost:8080/"
        },
        "id": "HOy78dCzEPly",
        "outputId": "878e9a66-e531-457f-d97e-f15273d2a816"
      },
      "execution_count": 25,
      "outputs": [
        {
          "output_type": "stream",
          "name": "stdout",
          "text": [
            "1d array: [1 2 3 4]\n"
          ]
        }
      ]
    },
    {
      "cell_type": "code",
      "source": [
        "import numpy as np\n",
        "arr2=np.array([[1,2,3,4],[5,6,7,8]])\n",
        "print(\"2d array:\\n\",arr2)"
      ],
      "metadata": {
        "colab": {
          "base_uri": "https://localhost:8080/"
        },
        "id": "FHhFC3GNEqs8",
        "outputId": "0446c657-f7f8-46ac-8d4b-1767e622308c"
      },
      "execution_count": 30,
      "outputs": [
        {
          "output_type": "stream",
          "name": "stdout",
          "text": [
            "2d array:\n",
            " [[1 2 3 4]\n",
            " [5 6 7 8]]\n"
          ]
        }
      ]
    },
    {
      "cell_type": "code",
      "source": [
        "import numpy as np\n",
        "zero_arr=np.zeros((3,3))\n",
        "print(\"zeros array:\\n\",zero_arr)"
      ],
      "metadata": {
        "colab": {
          "base_uri": "https://localhost:8080/"
        },
        "id": "RX8PUYN_FVjc",
        "outputId": "6e90d03f-df5f-4f8a-fd60-36803f24c88c"
      },
      "execution_count": 31,
      "outputs": [
        {
          "output_type": "stream",
          "name": "stdout",
          "text": [
            "zeros array:\n",
            " [[0. 0. 0.]\n",
            " [0. 0. 0.]\n",
            " [0. 0. 0.]]\n"
          ]
        }
      ]
    },
    {
      "cell_type": "code",
      "source": [
        "import numpy as np\n",
        "ones_arr=np.ones((2,4))\n",
        "print(\"oness array:\\n\",ones_arr)"
      ],
      "metadata": {
        "colab": {
          "base_uri": "https://localhost:8080/"
        },
        "id": "Dk-aFj23FuLh",
        "outputId": "5431c9aa-9191-498c-cf97-5fdc33579b7b"
      },
      "execution_count": 32,
      "outputs": [
        {
          "output_type": "stream",
          "name": "stdout",
          "text": [
            "oness array:\n",
            " [[1. 1. 1. 1.]\n",
            " [1. 1. 1. 1.]]\n"
          ]
        }
      ]
    },
    {
      "cell_type": "code",
      "source": [
        "import numpy as np\n",
        "range_arr=np.arange(0,10,2)#start,stop,step\n",
        "print(\"range array:\\n\",range_arr)"
      ],
      "metadata": {
        "colab": {
          "base_uri": "https://localhost:8080/"
        },
        "id": "lxr7vKixGCb4",
        "outputId": "21c27888-2c3c-4f1b-88d3-2a61f8aa9ace"
      },
      "execution_count": 34,
      "outputs": [
        {
          "output_type": "stream",
          "name": "stdout",
          "text": [
            "range array:\n",
            " [0 2 4 6 8]\n"
          ]
        }
      ]
    },
    {
      "cell_type": "code",
      "source": [
        "import numpy as np\n",
        "rand_arr=np.random.rand(3,3)\n",
        "print(\"Random array:\\n\",rand_arr)"
      ],
      "metadata": {
        "colab": {
          "base_uri": "https://localhost:8080/"
        },
        "id": "I4yQMtdQGsWs",
        "outputId": "7ae97165-070b-4c8f-c3af-a3c7db19870a"
      },
      "execution_count": 35,
      "outputs": [
        {
          "output_type": "stream",
          "name": "stdout",
          "text": [
            "Random array:\n",
            " [[0.02999075 0.16898821 0.12296701]\n",
            " [0.65539615 0.75383244 0.97702857]\n",
            " [0.63609252 0.6117405  0.78768203]]\n"
          ]
        }
      ]
    },
    {
      "cell_type": "code",
      "source": [
        "arr=np.array([[1,2,3],[4,5,6]])\n",
        "print(\"shape:\",arr.shape)\n",
        "print(\"dimensions:\",arr.ndim)\n",
        "print(\"datatype:\",arr.dtype)\n",
        "print(\"size:\",arr.size)\n",
        "print(\"item size:\",arr.itemsize)"
      ],
      "metadata": {
        "colab": {
          "base_uri": "https://localhost:8080/"
        },
        "id": "tnOiE3A7G7Uv",
        "outputId": "3dd87f4a-aaa4-4192-df8a-67abeacbfe4f"
      },
      "execution_count": 36,
      "outputs": [
        {
          "output_type": "stream",
          "name": "stdout",
          "text": [
            "shape: (2, 3)\n",
            "dimensions: 2\n",
            "datatype: int64\n",
            "size: 6\n",
            "item size: 8\n"
          ]
        }
      ]
    },
    {
      "cell_type": "code",
      "source": [
        "arr=np.array([10,20,30,40,50])\n",
        "print(\"first element:\",arr[0])\n",
        "print(\"last element:\",arr[-1])\n",
        "print(\"slice[1:4]:\",arr[1:4])\n",
        "print(\"every second element:\",arr[::2])"
      ],
      "metadata": {
        "colab": {
          "base_uri": "https://localhost:8080/"
        },
        "id": "u2O7vqhMKuRh",
        "outputId": "898d9b3f-4d96-46ea-adfa-c390a73b891a"
      },
      "execution_count": 37,
      "outputs": [
        {
          "output_type": "stream",
          "name": "stdout",
          "text": [
            "first element: 10\n",
            "last element: 50\n",
            "slice[1:4]: [20 30 40]\n",
            "every second element: [10 30 50]\n"
          ]
        }
      ]
    },
    {
      "cell_type": "code",
      "source": [
        "arr2=np.array([[1,2,3],[4,5,6]])\n",
        "print(\"element at row1,col2:\",arr2[0,1])\n",
        "print(\"second row:\",arr2[1,:])\n",
        "print(\"second column:\",arr2[:,1])"
      ],
      "metadata": {
        "colab": {
          "base_uri": "https://localhost:8080/"
        },
        "id": "a74vLLeGL9tM",
        "outputId": "ae668985-eee2-4ad1-bb04-cae4832b5e91"
      },
      "execution_count": 39,
      "outputs": [
        {
          "output_type": "stream",
          "name": "stdout",
          "text": [
            "element at row1,col2: 2\n",
            "second row: [4 5 6]\n",
            "second column: [2 5]\n"
          ]
        }
      ]
    },
    {
      "cell_type": "code",
      "source": [
        "a=np.array([1,2,3])\n",
        "b=np.array([4,5,6])\n",
        "print(\"addition:\",a+b)\n",
        "print(\"subtraction:\",a-b)\n",
        "print(\"multiplication:\",a*b)\n",
        "print(\"division:\",a/b)\n",
        "print(\"power:\",a**2)"
      ],
      "metadata": {
        "colab": {
          "base_uri": "https://localhost:8080/"
        },
        "id": "__OY-uGbPrGn",
        "outputId": "20c40c44-8422-4fec-f49b-0d3be9b4fe5e"
      },
      "execution_count": 40,
      "outputs": [
        {
          "output_type": "stream",
          "name": "stdout",
          "text": [
            "addition: [5 7 9]\n",
            "subtraction: [-3 -3 -3]\n",
            "multiplication: [ 4 10 18]\n",
            "division: [0.25 0.4  0.5 ]\n",
            "power: [1 4 9]\n"
          ]
        }
      ]
    },
    {
      "cell_type": "code",
      "source": [
        "arr=np.array([1,2,3,4,5])\n",
        "print(\"Sin:\",np.sin(arr))\n",
        "print(\"Cos:\",np.cos(arr))\n",
        "print(\"Tan:\",np.tan(arr))\n",
        "print(\"Log:\",np.log([1,np.e,np.e**2]))\n",
        "print(\"Exp:\",np.exp([1,2]))\n",
        "print(\"sqrt:\",np.sqrt([1,4,9]))\n",
        "print(\"sort:\",np.sort(arr))\n",
        "print(\"argsort:\",np.argsort(arr))\n",
        "print(\"argmax:\",np.argmax(arr))\n",
        "print(\"argmin:\",np.argmin(arr))\n",
        "print(\"std:\",np.std(arr))\n",
        "print(\"var:\",np.var(arr))\n",
        "print(\"cumsum:\",np.cumsum(arr))\n",
        "print(\"cumprod:\",np.cumprod(arr))\n",
        "print(\"unique:\",np.unique(arr))"
      ],
      "metadata": {
        "colab": {
          "base_uri": "https://localhost:8080/"
        },
        "id": "GjEQ6pbiQmvO",
        "outputId": "352099da-bfa7-49e8-8515-27b7dc127ee3"
      },
      "execution_count": 44,
      "outputs": [
        {
          "output_type": "stream",
          "name": "stdout",
          "text": [
            "Sin: [ 0.84147098  0.90929743  0.14112001 -0.7568025  -0.95892427]\n",
            "Cos: [ 0.54030231 -0.41614684 -0.9899925  -0.65364362  0.28366219]\n",
            "Tan: [ 1.55740772 -2.18503986 -0.14254654  1.15782128 -3.38051501]\n",
            "Log: [0. 1. 2.]\n",
            "Exp: [2.71828183 7.3890561 ]\n",
            "sqrt: [1. 2. 3.]\n",
            "sort: [1 2 3 4 5]\n",
            "argsort: [0 1 2 3 4]\n",
            "argmax: 4\n",
            "argmin: 0\n",
            "std: 1.4142135623730951\n",
            "var: 2.0\n",
            "cumsum: [ 1  3  6 10 15]\n",
            "cumprod: [  1   2   6  24 120]\n",
            "unique: [1 2 3 4 5]\n"
          ]
        }
      ]
    },
    {
      "cell_type": "code",
      "source": [
        "arr=np.array([[1,2,3],[4,5,6]])\n",
        "print(\"Sum:\",np.sum(arr))\n",
        "print(\"Mean:\",np.mean(arr))\n",
        "print(\"Max:\",np.max(arr))\n",
        "print(\"Min:\",np.min(arr))\n",
        "print(\"standard deviation:\",np.std(arr))\n",
        "print(\"sum along axis 0:\",np.sum(arr,axis=0))\n",
        "print(\"sum along axis 1:\",np.sum(arr,axis=1))\n"
      ],
      "metadata": {
        "colab": {
          "base_uri": "https://localhost:8080/"
        },
        "id": "HGnDc4ClRuE6",
        "outputId": "070aac82-c121-4a42-d574-2e1be155504e"
      },
      "execution_count": 45,
      "outputs": [
        {
          "output_type": "stream",
          "name": "stdout",
          "text": [
            "Sum: 21\n",
            "Mean: 3.5\n",
            "Max: 6\n",
            "Min: 1\n",
            "standard deviation: 1.707825127659933\n",
            "sum along axis 0: [5 7 9]\n",
            "sum along axis 1: [ 6 15]\n"
          ]
        }
      ]
    },
    {
      "cell_type": "code",
      "source": [
        "a=np.array([1,2,3])\n",
        "b=5\n",
        "print(\"Add scalar to array:\",a+b)\n",
        "c=np.array([[1],[2],[3]])\n",
        "d=np.array([4,5,6])\n",
        "print(\"bordcasted sum:\\n\",c+d)"
      ],
      "metadata": {
        "colab": {
          "base_uri": "https://localhost:8080/"
        },
        "id": "rIm79mWES8Dk",
        "outputId": "78ec4d4a-ecb0-448c-d92d-db526bf82fd8"
      },
      "execution_count": 46,
      "outputs": [
        {
          "output_type": "stream",
          "name": "stdout",
          "text": [
            "Add scalar to array: [6 7 8]\n",
            "bordcasted sum:\n",
            " [[5 6 7]\n",
            " [6 7 8]\n",
            " [7 8 9]]\n"
          ]
        }
      ]
    },
    {
      "cell_type": "code",
      "source": [
        "A=np.array([[1,2],[3,4]])\n",
        "B=np.array([[5,6],[7,8]])\n",
        "print(\"dot product:\\n\",np.dot(A,B))\n",
        "print(\"transpose:\\n\",A.T)\n",
        "print(\"inverse:\\n\",np.linalg.inv(A))\n",
        "print(\"determinent:\\n\",np.linalg.det(A))"
      ],
      "metadata": {
        "colab": {
          "base_uri": "https://localhost:8080/"
        },
        "id": "_EZqcyKWUOTp",
        "outputId": "d28d41b4-8afb-4b06-b3b9-300a36bacd41"
      },
      "execution_count": 48,
      "outputs": [
        {
          "output_type": "stream",
          "name": "stdout",
          "text": [
            "dot product:\n",
            " [[19 22]\n",
            " [43 50]]\n",
            "transpose:\n",
            " [[1 3]\n",
            " [2 4]]\n",
            "inverse:\n",
            " [[-2.   1. ]\n",
            " [ 1.5 -0.5]]\n",
            "determinent:\n",
            " -2.0000000000000004\n"
          ]
        }
      ]
    },
    {
      "cell_type": "code",
      "source": [
        "marks = np.array([\n",
        "[85, 90, 88],\n",
        "[78, 81, 85],\n",
        "[92, 89, 95]\n",
        "])\n",
        "print(\"Average marks per student:\", np.mean(marks, axis=1))\n",
        "print(\"Average marks per subject:\", np.mean(marks, axis=0))\n",
        "print(\"Highest marks in each subject:\", np.max(marks, axis=0))\n",
        "print(\"Lowest marks in each subject:\", np.min(marks, axis=0))"
      ],
      "metadata": {
        "colab": {
          "base_uri": "https://localhost:8080/"
        },
        "id": "YLcrF6kzW2JJ",
        "outputId": "868e4bc5-4937-4e33-9ddd-b71e11b39324"
      },
      "execution_count": 49,
      "outputs": [
        {
          "output_type": "stream",
          "name": "stdout",
          "text": [
            "Average marks per student: [87.66666667 81.33333333 92.        ]\n",
            "Average marks per subject: [85.         86.66666667 89.33333333]\n",
            "Highest marks in each subject: [92 90 95]\n",
            "Lowest marks in each subject: [78 81 85]\n"
          ]
        }
      ]
    }
  ]
}