{
  "nbformat": 4,
  "nbformat_minor": 0,
  "metadata": {
    "colab": {
      "provenance": [],
      "authorship_tag": "ABX9TyPmZ+jGiNYhxuW6ZaKTOaWj",
      "include_colab_link": true
    },
    "kernelspec": {
      "name": "python3",
      "display_name": "Python 3"
    },
    "language_info": {
      "name": "python"
    }
  },
  "cells": [
    {
      "cell_type": "markdown",
      "metadata": {
        "id": "view-in-github",
        "colab_type": "text"
      },
      "source": [
        "<a href=\"https://colab.research.google.com/github/2303a51514/2303a51514-batch-22/blob/main/lab-3.1.ipynb\" target=\"_parent\"><img src=\"https://colab.research.google.com/assets/colab-badge.svg\" alt=\"Open In Colab\"/></a>"
      ]
    },
    {
      "cell_type": "code",
      "execution_count": 3,
      "metadata": {
        "colab": {
          "base_uri": "https://localhost:8080/"
        },
        "id": "mcfZmFyhZtBW",
        "outputId": "c1e8dd0b-8b9c-45a8-af9d-6d79dc19a738"
      },
      "outputs": [
        {
          "output_type": "stream",
          "name": "stdout",
          "text": [
            "Test Scores (4x4 array):\n",
            " [[63 85 79 76]\n",
            " [82 79 88 92]\n",
            " [91 50 98 55]\n",
            " [60 93 66 83]]\n",
            "\n",
            "Row-wise Means: [75.75 85.25 73.5  75.5 ]\n",
            "Column-wise Means: [74.   76.75 82.75 76.5 ]\n",
            "\n",
            "Standard Deviation: 14.115594213493104\n",
            "Variance: 199.25\n",
            "\n",
            "Global Max: 98 at index (np.int64(2), np.int64(2))\n",
            "Global Min: 50 at index (np.int64(2), np.int64(1))\n",
            "\n",
            "Summary:\n",
            "Row means: [75.75 85.25 73.5  75.5 ]\n",
            "Column means: [74.   76.75 82.75 76.5 ]\n",
            "Std Dev: 14.12, Variance: 199.25\n",
            "Max value 98 at (np.int64(2), np.int64(2)), Min value 50 at (np.int64(2), np.int64(1))\n"
          ]
        }
      ],
      "source": [
        "import numpy as np\n",
        "scores = np.random.randint(50, 100, size=(4, 4))\n",
        "print(\"Test Scores (4x4 array):\\n\", scores)\n",
        "row_means = np.mean(scores, axis=1)\n",
        "col_means = np.mean(scores, axis=0)\n",
        "print(\"\\nRow-wise Means:\", row_means)\n",
        "print(\"Column-wise Means:\", col_means)\n",
        "std_dev = np.std(scores)\n",
        "variance = np.var(scores)\n",
        "print(\"\\nStandard Deviation:\", std_dev)\n",
        "print(\"Variance:\", variance)\n",
        "global_max = np.max(scores)\n",
        "global_min = np.min(scores)\n",
        "max_index = np.unravel_index(np.argmax(scores), scores.shape)\n",
        "min_index = np.unravel_index(np.argmin(scores), scores.shape)\n",
        "print(\"\\nGlobal Max:\", global_max, \"at index\", max_index)\n",
        "print(\"Global Min:\", global_min, \"at index\", min_index)\n",
        "print(\"\\nSummary:\")\n",
        "print(f\"Row means: {row_means}\")\n",
        "print(f\"Column means: {col_means}\")\n",
        "print(f\"Std Dev: {std_dev:.2f}, Variance: {variance:.2f}\")\n",
        "print(f\"Max value {global_max} at {max_index}, Min value {global_min} at {min_index}\")"
      ]
    },
    {
      "cell_type": "code",
      "source": [
        "import numpy as np\n",
        "image = np.random.randint(0, 256, size=(3, 3, 3))\n",
        "print(\"Original Image (3x3x3):\\n\", image)\n",
        "red_channel = image[:, :, 0]\n",
        "green_channel = image[:, :, 1]\n",
        "blue_channel = image[:, :, 2]\n",
        "print(\"\\nRed Channel:\\n\", red_channel)\n",
        "print(\"Green Channel:\\n\", green_channel)\n",
        "print(\"Blue Channel:\\n\", blue_channel)\n",
        "avg_red = np.mean(red_channel)\n",
        "avg_green = np.mean(green_channel)\n",
        "avg_blue = np.mean(blue_channel)\n",
        "print(\"\\nAverage Intensities:\")\n",
        "print(f\"Red: {avg_red:.2f}, Green: {avg_green:.2f}, Blue: {avg_blue:.2f}\")\n",
        "brightened = np.clip(image + 50, 0, 255)\n",
        "print(\"\\nBrightened Image (clipped at 255):\\n\", brightened)"
      ],
      "metadata": {
        "colab": {
          "base_uri": "https://localhost:8080/"
        },
        "id": "decUTov5Z4zA",
        "outputId": "ef61e924-f96b-425a-b136-570eac7915ab"
      },
      "execution_count": 4,
      "outputs": [
        {
          "output_type": "stream",
          "name": "stdout",
          "text": [
            "Original Image (3x3x3):\n",
            " [[[ 17 127 195]\n",
            "  [126 130  67]\n",
            "  [106 125 177]]\n",
            "\n",
            " [[ 60 110  59]\n",
            "  [230 144   3]\n",
            "  [178 188  25]]\n",
            "\n",
            " [[174 125 177]\n",
            "  [  4 226 189]\n",
            "  [218  99  10]]]\n",
            "\n",
            "Red Channel:\n",
            " [[ 17 126 106]\n",
            " [ 60 230 178]\n",
            " [174   4 218]]\n",
            "Green Channel:\n",
            " [[127 130 125]\n",
            " [110 144 188]\n",
            " [125 226  99]]\n",
            "Blue Channel:\n",
            " [[195  67 177]\n",
            " [ 59   3  25]\n",
            " [177 189  10]]\n",
            "\n",
            "Average Intensities:\n",
            "Red: 123.67, Green: 141.56, Blue: 100.22\n",
            "\n",
            "Brightened Image (clipped at 255):\n",
            " [[[ 67 177 245]\n",
            "  [176 180 117]\n",
            "  [156 175 227]]\n",
            "\n",
            " [[110 160 109]\n",
            "  [255 194  53]\n",
            "  [228 238  75]]\n",
            "\n",
            " [[224 175 227]\n",
            "  [ 54 255 239]\n",
            "  [255 149  60]]]\n"
          ]
        }
      ]
    }
  ]
}