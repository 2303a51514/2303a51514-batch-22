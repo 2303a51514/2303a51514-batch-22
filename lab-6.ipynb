{
  "nbformat": 4,
  "nbformat_minor": 0,
  "metadata": {
    "colab": {
      "provenance": [],
      "authorship_tag": "ABX9TyO4bf6Di9bkEylsS0Be7Ris",
      "include_colab_link": true
    },
    "kernelspec": {
      "name": "python3",
      "display_name": "Python 3"
    },
    "language_info": {
      "name": "python"
    }
  },
  "cells": [
    {
      "cell_type": "markdown",
      "metadata": {
        "id": "view-in-github",
        "colab_type": "text"
      },
      "source": [
        "<a href=\"https://colab.research.google.com/github/2303a51514/2303a51514-batch-22/blob/main/lab-6.ipynb\" target=\"_parent\"><img src=\"https://colab.research.google.com/assets/colab-badge.svg\" alt=\"Open In Colab\"/></a>"
      ]
    },
    {
      "cell_type": "code",
      "execution_count": 3,
      "metadata": {
        "colab": {
          "base_uri": "https://localhost:8080/"
        },
        "id": "soi45uKwgX78",
        "outputId": "2f051aa7-44f0-40c2-8e20-024cfe663083"
      },
      "outputs": [
        {
          "output_type": "stream",
          "name": "stdout",
          "text": [
            "Merged DataFrame:\n",
            "   Student_ID   Name  Marks\n",
            "0         101   Ravi     85\n",
            "1         102   Neha     90\n",
            "2         103  Kiran     78\n"
          ]
        }
      ],
      "source": [
        "import pandas as pd\n",
        "# Student Data\n",
        "students = pd.DataFrame({\n",
        "'Student_ID': [101, 102, 103, 104],\n",
        "'Name': ['Ravi', 'Neha', 'Kiran', 'Sita']})\n",
        "# Marks Data\n",
        "marks = pd.DataFrame({\n",
        "'Student_ID': [101, 102, 103, 105],\n",
        "'Marks': [85, 90, 78, 88]})\n",
        "merged_df = pd.merge(students, marks, on='Student_ID')\n",
        "print(\"Merged DataFrame:\")\n",
        "print(merged_df)\n"
      ]
    },
    {
      "cell_type": "code",
      "source": [
        "inner = pd.merge(students, marks, on='Student_ID', how='inner')\n",
        "print(\"Inner Join:\\n\", inner)\n",
        "left = pd.merge(students, marks, on='Student_ID', how='left')\n",
        "print(\"\\nLeft Join:\\n\", left)\n",
        "right = pd.merge(students, marks, on='Student_ID', how='right')\n",
        "print(\"\\nRight Join:\\n\", right)\n",
        "outer = pd.merge(students, marks, on='Student_ID', how='outer')\n",
        "print(\"\\nOuter Join:\\n\", outer)\n"
      ],
      "metadata": {
        "colab": {
          "base_uri": "https://localhost:8080/"
        },
        "id": "W8OdAgvCiA1f",
        "outputId": "0e1e80e8-8847-43e9-fef5-9d45bfe3e0ac"
      },
      "execution_count": 4,
      "outputs": [
        {
          "output_type": "stream",
          "name": "stdout",
          "text": [
            "Inner Join:\n",
            "    Student_ID   Name  Marks\n",
            "0         101   Ravi     85\n",
            "1         102   Neha     90\n",
            "2         103  Kiran     78\n",
            "\n",
            "Left Join:\n",
            "    Student_ID   Name  Marks\n",
            "0         101   Ravi   85.0\n",
            "1         102   Neha   90.0\n",
            "2         103  Kiran   78.0\n",
            "3         104   Sita    NaN\n",
            "\n",
            "Right Join:\n",
            "    Student_ID   Name  Marks\n",
            "0         101   Ravi     85\n",
            "1         102   Neha     90\n",
            "2         103  Kiran     78\n",
            "3         105    NaN     88\n",
            "\n",
            "Outer Join:\n",
            "    Student_ID   Name  Marks\n",
            "0         101   Ravi   85.0\n",
            "1         102   Neha   90.0\n",
            "2         103  Kiran   78.0\n",
            "3         104   Sita    NaN\n",
            "4         105    NaN   88.0\n"
          ]
        }
      ]
    },
    {
      "cell_type": "code",
      "source": [
        "students = pd.DataFrame({\n",
        "'Name': ['Ravi', 'Neha', 'Kiran', 'Sita']\n",
        "}, index=[101, 102, 103, 104])\n",
        "marks = pd.DataFrame({\n",
        "'Marks': [85, 90, 78, 88]\n",
        "}, index=[101, 102, 103, 105])\n",
        "joined_df = students.join(marks, how='outer')\n",
        "print(\"Joined DataFrame:\")\n",
        "print(joined_df)"
      ],
      "metadata": {
        "colab": {
          "base_uri": "https://localhost:8080/"
        },
        "id": "vui23MWwiR73",
        "outputId": "30c3749f-fe46-4cba-e2e1-d8d7be089e1e"
      },
      "execution_count": 5,
      "outputs": [
        {
          "output_type": "stream",
          "name": "stdout",
          "text": [
            "Joined DataFrame:\n",
            "      Name  Marks\n",
            "101   Ravi   85.0\n",
            "102   Neha   90.0\n",
            "103  Kiran   78.0\n",
            "104   Sita    NaN\n",
            "105    NaN   88.0\n"
          ]
        }
      ]
    },
    {
      "cell_type": "code",
      "source": [
        "students = pd.DataFrame({\n",
        "'Student_ID': [101, 102, 103, 104],\n",
        "'Name': ['Ravi', 'Neha', 'Kiran', 'Sita'],\n",
        "'Department': ['CSE', 'ECE', 'MECH', 'CSE']\n",
        "})\n",
        "marks = pd.DataFrame({\n",
        "'Student_ID': [101, 102, 104, 105],\n",
        "'Marks': [85, 90, 92, 88]\n",
        "})\n",
        "final_df = pd.merge(students, marks, on='Student_ID',\n",
        "how='outer')\n",
        "print(\"Final Student Records:\")\n",
        "print(final_df)"
      ],
      "metadata": {
        "colab": {
          "base_uri": "https://localhost:8080/"
        },
        "id": "ToPfnRDRioeH",
        "outputId": "3ea221de-7448-4715-8068-f2ba734db8e8"
      },
      "execution_count": 6,
      "outputs": [
        {
          "output_type": "stream",
          "name": "stdout",
          "text": [
            "Final Student Records:\n",
            "   Student_ID   Name Department  Marks\n",
            "0         101   Ravi        CSE   85.0\n",
            "1         102   Neha        ECE   90.0\n",
            "2         103  Kiran       MECH    NaN\n",
            "3         104   Sita        CSE   92.0\n",
            "4         105    NaN        NaN   88.0\n"
          ]
        }
      ]
    },
    {
      "cell_type": "code",
      "source": [
        "students = pd.DataFrame({\n",
        "'Name': ['Ravi', 'Neha', 'Kiran', 'Sita']\n",
        "}, index=[101, 102, 103, 104])\n",
        "# Marks Data (index = Student_ID)\n",
        "marks = pd.DataFrame({\n",
        "'Marks': [85, 90, 78, 88]\n",
        "}, index=[101, 102, 103, 105])\n",
        "joined_df = students.join(marks, how='outer')\n",
        "print(\"Joined DataFrame:\")\n",
        "print(joined_df)"
      ],
      "metadata": {
        "colab": {
          "base_uri": "https://localhost:8080/"
        },
        "id": "svCDUXXKjDpL",
        "outputId": "308e6379-9d93-42f2-a1bc-bc7057b8d42a"
      },
      "execution_count": 7,
      "outputs": [
        {
          "output_type": "stream",
          "name": "stdout",
          "text": [
            "Joined DataFrame:\n",
            "      Name  Marks\n",
            "101   Ravi   85.0\n",
            "102   Neha   90.0\n",
            "103  Kiran   78.0\n",
            "104   Sita    NaN\n",
            "105    NaN   88.0\n"
          ]
        }
      ]
    },
    {
      "cell_type": "code",
      "source": [
        "students = pd.DataFrame({\n",
        "'Student_ID': [101, 102, 103, 104],\n",
        "'Name': ['Ravi', 'Neha', 'Kiran', 'Sita'],\n",
        "'Department': ['CSE', 'ECE', 'MECH', 'CSE']\n",
        "})\n",
        "marks = pd.DataFrame({\n",
        "'Student_ID': [101, 102, 104, 105],\n",
        "'Marks': [85, 90, 92, 88]\n",
        "})\n",
        "final_df = pd.merge(students, marks, on='Student_ID',\n",
        "how='outer')\n",
        "print(\"Final Student Records:\")\n",
        "print(final_df)"
      ],
      "metadata": {
        "colab": {
          "base_uri": "https://localhost:8080/"
        },
        "id": "YFFRYxEHjRii",
        "outputId": "4ee49058-dcb6-4781-bbef-c6249f75dc6f"
      },
      "execution_count": 9,
      "outputs": [
        {
          "output_type": "stream",
          "name": "stdout",
          "text": [
            "Final Student Records:\n",
            "   Student_ID   Name Department  Marks\n",
            "0         101   Ravi        CSE   85.0\n",
            "1         102   Neha        ECE   90.0\n",
            "2         103  Kiran       MECH    NaN\n",
            "3         104   Sita        CSE   92.0\n",
            "4         105    NaN        NaN   88.0\n"
          ]
        }
      ]
    },
    {
      "cell_type": "code",
      "source": [],
      "metadata": {
        "id": "BZrSoXFYPIpP"
      },
      "execution_count": null,
      "outputs": []
    }
  ]
}